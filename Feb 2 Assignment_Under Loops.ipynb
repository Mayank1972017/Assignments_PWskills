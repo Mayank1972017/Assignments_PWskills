{
 "cells": [
  {
   "cell_type": "code",
   "execution_count": 9,
   "id": "dd121ee5-c1e7-4a14-af50-4ab295090318",
   "metadata": {
    "tags": []
   },
   "outputs": [
    {
     "name": "stdout",
     "output_type": "stream",
     "text": [
      "amit\n",
      "kumar\n",
      "dhiman\n",
      "mayank\n",
      "nish\n"
     ]
    }
   ],
   "source": [
    "# Q1 For loop and while loop usage\n",
    "#Explain with an example each when to use a for loop and a while loop.\n",
    "\n",
    "#Ans for loop is a control flow statement that executes code for a predefined number of iterations\n",
    "l1=[\"amit\",\"kumar\",\"dhiman\",\"mayank\",\"nish\"]\n",
    "for i in l1:\n",
    "    print (i)"
   ]
  },
  {
   "cell_type": "code",
   "execution_count": 10,
   "id": "ef1f8c7c-c37a-427f-9730-e9d58bf1e2f7",
   "metadata": {},
   "outputs": [
    {
     "name": "stdout",
     "output_type": "stream",
     "text": [
      "1\n",
      "2\n",
      "3\n",
      "4\n",
      "5\n",
      "6\n",
      "7\n",
      "8\n",
      "9\n",
      "10\n"
     ]
    }
   ],
   "source": [
    "#While loop runs a single statement or a set of statements for a given true condition.\n",
    "a=1\n",
    "while a<=10:\n",
    "     \n",
    "    print(a)\n",
    "    a=a+1\n"
   ]
  },
  {
   "cell_type": "code",
   "execution_count": 1,
   "id": "200ea46f-d649-484b-a478-37f309301879",
   "metadata": {},
   "outputs": [
    {
     "name": "stdout",
     "output_type": "stream",
     "text": [
      "Sum : 55\n",
      "Product : 3628800\n"
     ]
    }
   ],
   "source": [
    "# Q2 Write a python program to print the sum and product of the first 10 natural numbers using for\n",
    "# and while loop.\n",
    "\n",
    "sum_of_numbers = 0\n",
    "product_of_numbers = 1\n",
    "for i in range(1, 11):\n",
    "    sum_of_numbers += i\n",
    "    product_of_numbers *= i\n",
    "print(\"Sum :\", sum_of_numbers)\n",
    "print(\"Product :\", product_of_numbers)\n",
    "\n"
   ]
  },
  {
   "cell_type": "code",
   "execution_count": 8,
   "id": "d87151c6-5375-4fae-bfae-446e132dff85",
   "metadata": {},
   "outputs": [
    {
     "name": "stdout",
     "output_type": "stream",
     "text": [
      "Sum : 55\n",
      "Product : 3628800\n"
     ]
    }
   ],
   "source": [
    "sum_of_numbers = 0\n",
    "product_of_numbers = 1\n",
    "i=1\n",
    "while i<=10:\n",
    "    sum_of_numbers += i\n",
    "    product_of_numbers *= i\n",
    "    i=i+1\n",
    "print(\"Sum :\", sum_of_numbers)\n",
    "print(\"Product :\", product_of_numbers)\n",
    "\n",
    "\n"
   ]
  },
  {
   "cell_type": "code",
   "execution_count": 11,
   "id": "4272dad7-00c5-4c15-be55-5a53f811373e",
   "metadata": {},
   "outputs": [
    {
     "name": "stdin",
     "output_type": "stream",
     "text": [
      "Enter the units consumed in a month:  310\n"
     ]
    },
    {
     "name": "stdout",
     "output_type": "stream",
     "text": [
      "Your electricity bill : 2250.0\n"
     ]
    }
   ],
   "source": [
    "# Q3. Create a python program to compute the electricity bill for a household.\n",
    "# The per-unit charges in rupees are as follows: For the first 100 units, the user will be charged Rs. 4.5 per\n",
    "# unit, for the next 100 units, the user will be charged Rs. 6 per unit, and for the next 100 units, the user will\n",
    "# be charged Rs. 10 per unit, After 300 units and above the user will be charged Rs. 20 per unit.\n",
    "# You are required to take the units of electricity consumed in a month from the user as input.\n",
    "# Your program must pass this test case: when the unit of electricity consumed by the user in a month is\n",
    "# 310, the total electricity bill should be 2250.\n",
    "\n",
    "\n",
    "units = int(input(\"Enter the units consumed in a month: \"))\n",
    "\n",
    "if units <= 100:\n",
    "    bill = units * 4.5\n",
    "elif units <= 200:\n",
    "    bill = 100 * 4.5 + (units - 100) * 6\n",
    "elif units <= 300:\n",
    "    bill = 100 * 4.5 + 100 * 6 + (units - 200) * 10\n",
    "else:\n",
    "    bill = 100 * 4.5 + 100 * 6 + 100 * 10 + (units - 300) * 20\n",
    "\n",
    "print(\"Your electricity bill :\",(bill))\n"
   ]
  },
  {
   "cell_type": "code",
   "execution_count": 2,
   "id": "25ccf88f-f035-41fb-a42b-9a3bd84403ee",
   "metadata": {},
   "outputs": [
    {
     "name": "stdout",
     "output_type": "stream",
     "text": [
      "[2, 4, 5, 6, 8, 10, 12, 14, 15, 16, 18, 20, 22, 24, 25, 26, 28, 30, 32, 34, 35, 36, 38, 40, 42, 44, 45, 46, 48, 50, 52, 54, 55, 56, 58, 60, 62, 64, 65, 66, 68, 70, 72, 74, 75, 76, 78, 80, 82, 84, 85, 86, 88, 90, 92, 94, 95, 96, 98, 100]\n"
     ]
    }
   ],
   "source": [
    "#Q4. Create a list of numbers from 1 to 100. Use for loop and while loop to calculate the cube of each\n",
    "#number and if the cube of that number is divisible by 4 or 5 then append that number in a list and print\n",
    "#that list.\n",
    "\n",
    "cubes_list = []\n",
    "for i in range(1, 101):\n",
    "    cube = i ** 3\n",
    "    if cube % 4 == 0 or cube % 5 == 0:\n",
    "        cubes_list.append(i)\n",
    "print(cubes_list)\n"
   ]
  },
  {
   "cell_type": "code",
   "execution_count": 3,
   "id": "09151f51-813a-40d2-99f5-fe222ca988c7",
   "metadata": {},
   "outputs": [
    {
     "name": "stdout",
     "output_type": "stream",
     "text": [
      "[2, 4, 5, 6, 8, 10, 12, 14, 15, 16, 18, 20, 22, 24, 25, 26, 28, 30, 32, 34, 35, 36, 38, 40, 42, 44, 45, 46, 48, 50, 52, 54, 55, 56, 58, 60, 62, 64, 65, 66, 68, 70, 72, 74, 75, 76, 78, 80, 82, 84, 85, 86, 88, 90, 92, 94, 95, 96, 98, 100]\n"
     ]
    }
   ],
   "source": [
    "cubes_list = []\n",
    "i = 1\n",
    "while i <= 100:\n",
    "    cube = i ** 3\n",
    "    if cube % 4 == 0 or cube % 5 == 0:\n",
    "        cubes_list.append(i)\n",
    "    i =i+ 1\n",
    "print(cubes_list)\n"
   ]
  },
  {
   "cell_type": "code",
   "execution_count": 4,
   "id": "5bbc92ff-7eec-4fd9-b0c5-fac2f87b6982",
   "metadata": {},
   "outputs": [
    {
     "name": "stdout",
     "output_type": "stream",
     "text": [
      "Count Vowels in string: 12\n"
     ]
    }
   ],
   "source": [
    "# Q5 Write a program to filter count vowels in the below-given string.\n",
    "# string = \"I want to become a data scientist\"\n",
    "\n",
    "st=\"I want to become a data scientist\"\n",
    "Vow=('a','e','i','o','u')\n",
    "Count=0\n",
    "st_lower=st.lower()\n",
    "for i in Vow:\n",
    "    Count = Count + st_lower.count(i)\n",
    "print(\"Count Vowels in string:\",Count)\n",
    "    "
   ]
  },
  {
   "cell_type": "code",
   "execution_count": null,
   "id": "007a93cf-a09c-488e-8a37-d60be64ac20f",
   "metadata": {},
   "outputs": [],
   "source": []
  }
 ],
 "metadata": {
  "kernelspec": {
   "display_name": "Python 3 (ipykernel)",
   "language": "python",
   "name": "python3"
  },
  "language_info": {
   "codemirror_mode": {
    "name": "ipython",
    "version": 3
   },
   "file_extension": ".py",
   "mimetype": "text/x-python",
   "name": "python",
   "nbconvert_exporter": "python",
   "pygments_lexer": "ipython3",
   "version": "3.10.8"
  }
 },
 "nbformat": 4,
 "nbformat_minor": 5
}
